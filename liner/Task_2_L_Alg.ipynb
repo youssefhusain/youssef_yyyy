{
  "cells": [
    {
      "cell_type": "markdown",
      "id": "dd5fdc2a",
      "metadata": {
        "id": "dd5fdc2a"
      },
      "source": [
        "## Linear Combination\n",
        "### Use NumPy"
      ]
    },
    {
      "cell_type": "markdown",
      "id": "38364291",
      "metadata": {
        "id": "38364291"
      },
      "source": [
        "$$v_1=\\begin{bmatrix} 1 \\\\ 2 \\\\ 3 \\end{bmatrix},\n",
        "v_2=\\begin{bmatrix} 3 \\\\ 5 \\\\ 1 \\end{bmatrix},\n",
        "v_3=\\begin{bmatrix} 0 \\\\ 0 \\\\ 8 \\end{bmatrix}$$\n",
        "- Find <b>b</b> vector where $$b=3v_1+0v_2+0v_3$$\n",
        "- Find <b>x</b> vector where $$x=-v_1+v_2-0.5v_3$$"
      ]
    },
    {
      "cell_type": "code",
      "source": [
        "import numpy as np\n",
        "import sympy as sp"
      ],
      "metadata": {
        "id": "4qKKYknvmdLZ"
      },
      "id": "4qKKYknvmdLZ",
      "execution_count": 2,
      "outputs": []
    },
    {
      "cell_type": "code",
      "source": [
        "v1=np.array([[1],[2],[3]])\n",
        "v2=np.array([[3],[5],[1]])\n",
        "v3=np.array([[0],[0],[8]])\n",
        "b=3*v1+0*v2+0*v3\n",
        "b"
      ],
      "metadata": {
        "colab": {
          "base_uri": "https://localhost:8080/"
        },
        "id": "-yNGyuOompFw",
        "outputId": "55bf19b7-7cb8-491d-baa0-57a2a0b081c9"
      },
      "id": "-yNGyuOompFw",
      "execution_count": 2,
      "outputs": [
        {
          "output_type": "execute_result",
          "data": {
            "text/plain": [
              "array([[3],\n",
              "       [6],\n",
              "       [9]])"
            ]
          },
          "metadata": {},
          "execution_count": 2
        }
      ]
    },
    {
      "cell_type": "code",
      "source": [
        "x=-1*v1+v2-0.5*v3\n",
        "x"
      ],
      "metadata": {
        "colab": {
          "base_uri": "https://localhost:8080/"
        },
        "id": "ajoJn5q5qspB",
        "outputId": "c307a91a-c9fe-41f9-eae0-d550cefe53ac"
      },
      "id": "ajoJn5q5qspB",
      "execution_count": 3,
      "outputs": [
        {
          "output_type": "execute_result",
          "data": {
            "text/plain": [
              "array([[ 2.],\n",
              "       [ 3.],\n",
              "       [-6.]])"
            ]
          },
          "metadata": {},
          "execution_count": 3
        }
      ]
    },
    {
      "cell_type": "code",
      "execution_count": null,
      "id": "fe0eb854",
      "metadata": {
        "id": "fe0eb854",
        "outputId": "4ad0bf32-720a-4baf-e735-147697b3405b"
      },
      "outputs": [
        {
          "name": "stdout",
          "output_type": "stream",
          "text": [
            "b:\n",
            "[[3]\n",
            " [6]\n",
            " [9]]\n",
            "\n",
            "x:\n",
            "[[ 2.]\n",
            " [ 3.]\n",
            " [-6.]]\n"
          ]
        }
      ],
      "source": []
    },
    {
      "cell_type": "markdown",
      "id": "54955382",
      "metadata": {
        "id": "54955382"
      },
      "source": [
        "## Vector Span\n",
        "### Use Numpy (matrix inverse) and SymPy (rref)"
      ]
    },
    {
      "cell_type": "markdown",
      "id": "9d440a16",
      "metadata": {
        "id": "9d440a16"
      },
      "source": [
        "#### Is $$v=\\begin{bmatrix} 19 \\\\ 10 \\\\ -1 \\end{bmatrix}$$ in the span of\n",
        "$$v_1=\\begin{bmatrix} 3 \\\\ -1 \\\\ 2 \\end{bmatrix},\n",
        "v_2=\\begin{bmatrix} -5 \\\\ 0 \\\\ 1 \\end{bmatrix},\n",
        "v_3=\\begin{bmatrix} 1 \\\\ 7 \\\\ -4 \\end{bmatrix}$$"
      ]
    },
    {
      "cell_type": "code",
      "source": [
        "v_matrix=sp.Matrix([[3,-5,1,19],[-1,0,7,10],[2,1,-4,-1]])\n",
        "rref,pivot=v_matrix.rref()\n",
        "print(rref)\n",
        "print(pivot)"
      ],
      "metadata": {
        "colab": {
          "base_uri": "https://localhost:8080/"
        },
        "id": "AuyA4W0KrBEg",
        "outputId": "3b94ba52-a856-41de-b641-c7cddcf2ed1a"
      },
      "id": "AuyA4W0KrBEg",
      "execution_count": 11,
      "outputs": [
        {
          "output_type": "stream",
          "name": "stdout",
          "text": [
            "Matrix([[1, 0, 0, 4], [0, 1, 0, -1], [0, 0, 1, 2]])\n",
            "(0, 1, 2)\n"
          ]
        }
      ]
    },
    {
      "cell_type": "code",
      "execution_count": null,
      "id": "6da888d4",
      "metadata": {
        "id": "6da888d4",
        "outputId": "4cc741b7-2538-42f4-b5d6-adf2c090a6e7"
      },
      "outputs": [
        {
          "data": {
            "text/plain": [
              "(Matrix([\n",
              " [1, 0, 0,  4],\n",
              " [0, 1, 0, -1],\n",
              " [0, 0, 1,  2]]),\n",
              " (0, 1, 2))"
            ]
          },
          "execution_count": 7,
          "metadata": {},
          "output_type": "execute_result"
        }
      ],
      "source": []
    },
    {
      "cell_type": "code",
      "source": [
        "v_vector=np.array([[19],[10],[-1]])\n",
        "v_matrix=np.array([[3,-5,1],[-1,0,7],[2,1,-4]])\n",
        "v_inv=np.linalg.inv(v_matrix)\n",
        "x=v_inv@v_vector\n",
        "x"
      ],
      "metadata": {
        "colab": {
          "base_uri": "https://localhost:8080/"
        },
        "id": "8_ufhWb61Sv6",
        "outputId": "6d74af77-352f-49e2-fa31-f06a4432b305"
      },
      "id": "8_ufhWb61Sv6",
      "execution_count": 13,
      "outputs": [
        {
          "output_type": "execute_result",
          "data": {
            "text/plain": [
              "array([[ 4.],\n",
              "       [-1.],\n",
              "       [ 2.]])"
            ]
          },
          "metadata": {},
          "execution_count": 13
        }
      ]
    },
    {
      "cell_type": "code",
      "execution_count": null,
      "id": "f0d48b0c",
      "metadata": {
        "id": "f0d48b0c",
        "outputId": "060f271c-d6b2-4442-b76a-3cfb5c73f0b0"
      },
      "outputs": [
        {
          "name": "stdout",
          "output_type": "stream",
          "text": [
            "[[ 4.]\n",
            " [-1.]\n",
            " [ 2.]]\n"
          ]
        }
      ],
      "source": []
    },
    {
      "cell_type": "markdown",
      "id": "821a71ae",
      "metadata": {
        "id": "821a71ae"
      },
      "source": [
        "## Vector Linear Independence\n",
        "### Use rref and determinant\n",
        "- Consider the following sets of vectors in R3. If the set is independent, prove it.\n",
        "- If the set is dependent, find a nontrivial linear combination of the vectors which is equal to 0.\n",
        "    - {(2, 0, -3), (1, 1, 1), (1, 7, 2)}.\n",
        "    - {(1, 2, -1), (4, 1, 3), (-10, 1, -11)}.\n",
        "\n",
        "<b>Hint: we have to determine whether this implies that 𝒂=𝒃=𝒄=𝟎.</b>"
      ]
    },
    {
      "cell_type": "code",
      "source": [
        "M = sp.Matrix([[2, 0, -3],\n",
        "               [1, 1, 1],\n",
        "               [1, 7, 2]])\n",
        "rref,pivot=M.rref()\n",
        "print(rref)\n",
        "print(pivot)"
      ],
      "metadata": {
        "colab": {
          "base_uri": "https://localhost:8080/"
        },
        "id": "vAeCJ1Q02kZz",
        "outputId": "441c8aaf-0983-430f-ad34-15555afa259f"
      },
      "id": "vAeCJ1Q02kZz",
      "execution_count": 14,
      "outputs": [
        {
          "output_type": "stream",
          "name": "stdout",
          "text": [
            "Matrix([[1, 0, 0], [0, 1, 0], [0, 0, 1]])\n",
            "(0, 1, 2)\n"
          ]
        }
      ]
    },
    {
      "cell_type": "code",
      "execution_count": null,
      "id": "51c3ffd9",
      "metadata": {
        "id": "51c3ffd9",
        "outputId": "5fd7f405-2052-496f-da4b-8c4693904763"
      },
      "outputs": [
        {
          "data": {
            "text/plain": [
              "(Matrix([\n",
              " [1, 0, 0],\n",
              " [0, 1, 0],\n",
              " [0, 0, 1]]),\n",
              " (0, 1, 2))"
            ]
          },
          "execution_count": 14,
          "metadata": {},
          "output_type": "execute_result"
        }
      ],
      "source": []
    },
    {
      "cell_type": "code",
      "execution_count": 15,
      "id": "a72c7e98",
      "metadata": {
        "colab": {
          "base_uri": "https://localhost:8080/"
        },
        "id": "a72c7e98",
        "outputId": "54077bed-c54c-49ca-e1c6-456c5fb57e03"
      },
      "outputs": [
        {
          "output_type": "stream",
          "name": "stdout",
          "text": [
            "Matrix([[1, 0, 1], [0, 1, -1], [0, 0, 0]])\n",
            "(0, 1)\n"
          ]
        }
      ],
      "source": [
        "M = sp.Matrix([[1, 2, -1],\n",
        "               [4, 1, 3],\n",
        "               [-10, 1, -11]])\n",
        "rref,pivot=M.rref()\n",
        "print(rref)\n",
        "print(pivot)"
      ]
    },
    {
      "cell_type": "code",
      "execution_count": null,
      "id": "e094ea5c",
      "metadata": {
        "id": "e094ea5c",
        "outputId": "729a0a66-6163-4580-c86f-b5156ff87700"
      },
      "outputs": [
        {
          "data": {
            "text/plain": [
              "(Matrix([\n",
              " [1, 0,  2],\n",
              " [0, 1, -3],\n",
              " [0, 0,  0]]),\n",
              " (0, 1))"
            ]
          },
          "execution_count": 17,
          "metadata": {},
          "output_type": "execute_result"
        }
      ],
      "source": []
    },
    {
      "cell_type": "code",
      "execution_count": null,
      "id": "4c52897d",
      "metadata": {
        "id": "4c52897d",
        "outputId": "01218bc4-2070-40c6-d8c6-a0fa99d209e0"
      },
      "outputs": [
        {
          "data": {
            "text/latex": [
              "$\\displaystyle 0$"
            ],
            "text/plain": [
              "0"
            ]
          },
          "execution_count": 19,
          "metadata": {},
          "output_type": "execute_result"
        }
      ],
      "source": []
    },
    {
      "cell_type": "markdown",
      "id": "c88fb001",
      "metadata": {
        "id": "c88fb001"
      },
      "source": [
        "## Linear Transformation\n",
        "### Ex.1"
      ]
    },
    {
      "cell_type": "markdown",
      "id": "9ef341fd",
      "metadata": {
        "id": "9ef341fd"
      },
      "source": [
        "$$T=\\begin{bmatrix} 1&2 \\\\ 3&7 \\end{bmatrix}$$\n",
        "- Write the linear transformation expression of this matrix. i.e. Linear functions of x,y.\n",
        "- Apply the transformation matrix <b>T</b> to the following vectors:\n",
        "$$\\begin{bmatrix} 1 \\\\ 0 \\end{bmatrix},\\begin{bmatrix} 0 \\\\ 1 \\end{bmatrix} $$\n",
        "- Find all points <b>(x,y)</b> such that <b>T(x,y)=(1,0)</b>"
      ]
    },
    {
      "cell_type": "code",
      "source": [
        "T=np.array([[1,2],[3,7]])\n",
        "x=np.array([[1],[0]])\n",
        "T@x"
      ],
      "metadata": {
        "colab": {
          "base_uri": "https://localhost:8080/"
        },
        "id": "HxVSpNM4XeXK",
        "outputId": "ccadfa37-c2f2-4a6a-e1b3-ca0a8aae8f26"
      },
      "id": "HxVSpNM4XeXK",
      "execution_count": 8,
      "outputs": [
        {
          "output_type": "execute_result",
          "data": {
            "text/plain": [
              "array([[1],\n",
              "       [3]])"
            ]
          },
          "metadata": {},
          "execution_count": 8
        }
      ]
    },
    {
      "cell_type": "code",
      "source": [
        "y=np.array([[0],[1]])\n",
        "T@y"
      ],
      "metadata": {
        "colab": {
          "base_uri": "https://localhost:8080/"
        },
        "id": "m5OGZSCNZJw0",
        "outputId": "b0b1a73e-a110-4e3b-d406-8e384a80eded"
      },
      "id": "m5OGZSCNZJw0",
      "execution_count": 9,
      "outputs": [
        {
          "output_type": "execute_result",
          "data": {
            "text/plain": [
              "array([[2],\n",
              "       [7]])"
            ]
          },
          "metadata": {},
          "execution_count": 9
        }
      ]
    },
    {
      "cell_type": "code",
      "execution_count": null,
      "id": "d3e46a3d",
      "metadata": {
        "id": "d3e46a3d",
        "outputId": "2f2df396-4430-478b-da56-76694c31f5dc"
      },
      "outputs": [
        {
          "name": "stdout",
          "output_type": "stream",
          "text": [
            "A.v1=\n",
            "[[1]\n",
            " [3]]\n",
            "\n",
            "A.v2=\n",
            "[[2]\n",
            " [7]]\n"
          ]
        }
      ],
      "source": []
    },
    {
      "cell_type": "code",
      "execution_count": null,
      "id": "5e4bdf4e",
      "metadata": {
        "id": "5e4bdf4e",
        "outputId": "c323758e-e0cc-40d2-9256-fca11c36b727"
      },
      "outputs": [
        {
          "name": "stdout",
          "output_type": "stream",
          "text": [
            "(x,y):\n",
            "[[ 7.]\n",
            " [-3.]]\n"
          ]
        }
      ],
      "source": []
    },
    {
      "cell_type": "markdown",
      "id": "aa9f63c6",
      "metadata": {
        "id": "aa9f63c6"
      },
      "source": [
        "### Ex.2\n",
        "### For the expression $$T\\begin{bmatrix} x \\\\ y \\end{bmatrix}=\\begin{bmatrix} x+y \\\\ y \\end{bmatrix}$$\n",
        "- Find the transformation matrix.\n",
        "- Represent the transformation graphically <b>(on paper)</b>.\n",
        "- Find all points <b>(x,y)</b> such that <b>T(x,y)=(3,4)</b>"
      ]
    },
    {
      "cell_type": "code",
      "source": [
        "T = np.array([[1, 1], [0, 1]])\n",
        "b = np.array([3, 4])\n",
        "T_inv = np.linalg.inv(T)\n",
        "T_inv @ b"
      ],
      "metadata": {
        "colab": {
          "base_uri": "https://localhost:8080/"
        },
        "id": "_p89xgCbZd2P",
        "outputId": "05b13cc1-c993-4056-ee21-9af4499113c7"
      },
      "id": "_p89xgCbZd2P",
      "execution_count": 16,
      "outputs": [
        {
          "output_type": "execute_result",
          "data": {
            "text/plain": [
              "array([-1.,  4.])"
            ]
          },
          "metadata": {},
          "execution_count": 16
        }
      ]
    },
    {
      "cell_type": "code",
      "execution_count": null,
      "id": "96dd3fd1",
      "metadata": {
        "id": "96dd3fd1",
        "outputId": "31897bc9-8f39-4920-9d64-60ab327ecea7"
      },
      "outputs": [
        {
          "name": "stdout",
          "output_type": "stream",
          "text": [
            "x:\n",
            "[[-1.]\n",
            " [ 4.]]\n"
          ]
        }
      ],
      "source": []
    },
    {
      "cell_type": "markdown",
      "id": "81b7edf9",
      "metadata": {
        "id": "81b7edf9"
      },
      "source": [
        "## Determinant\n",
        "### Find Determinant of:"
      ]
    },
    {
      "cell_type": "markdown",
      "id": "f999e755",
      "metadata": {
        "id": "f999e755"
      },
      "source": [
        "$$\\begin{bmatrix} 3&8 \\\\ 4&6 \\end{bmatrix} , \\begin{bmatrix} 4&6 \\\\ 3&8 \\end{bmatrix}$$\n",
        "$$\\begin{bmatrix} 6&1&1 \\\\ 4&-2&5 \\\\ 2&8&7\\end{bmatrix}$$\n",
        "$$\\begin{bmatrix} 3&2&0&1 \\\\ 4&0&1&2 \\\\ 3&0&2&1 \\\\ 9&2&3&1\\end{bmatrix}$$\n"
      ]
    },
    {
      "cell_type": "code",
      "execution_count": 17,
      "id": "95fc52ce",
      "metadata": {
        "colab": {
          "base_uri": "https://localhost:8080/"
        },
        "id": "95fc52ce",
        "outputId": "ca43a78b-a316-4134-fce9-9b3159473898"
      },
      "outputs": [
        {
          "output_type": "execute_result",
          "data": {
            "text/plain": [
              "-14.000000000000004"
            ]
          },
          "metadata": {},
          "execution_count": 17
        }
      ],
      "source": [
        "x=np.array([[3,8],[4,6]])\n",
        "np.linalg.det(x)\n",
        "\n",
        "\n"
      ]
    },
    {
      "cell_type": "code",
      "source": [
        "y=np.array([[4,6],[3,8]])\n",
        "np.linalg.det(y)"
      ],
      "metadata": {
        "colab": {
          "base_uri": "https://localhost:8080/"
        },
        "id": "QnekYmHYdEkd",
        "outputId": "cd15ece4-edb9-4adb-a377-9302486a84dd"
      },
      "id": "QnekYmHYdEkd",
      "execution_count": 18,
      "outputs": [
        {
          "output_type": "execute_result",
          "data": {
            "text/plain": [
              "14.000000000000004"
            ]
          },
          "metadata": {},
          "execution_count": 18
        }
      ]
    },
    {
      "cell_type": "code",
      "source": [
        "z=np.array([[6,1,1],[4,-2,5],[2,8,7]])\n",
        "np.linalg.det(z)"
      ],
      "metadata": {
        "colab": {
          "base_uri": "https://localhost:8080/"
        },
        "id": "yp_H1luddFPM",
        "outputId": "ea52f8fb-21ac-409f-9c8e-d96ca78ff5dc"
      },
      "id": "yp_H1luddFPM",
      "execution_count": 19,
      "outputs": [
        {
          "output_type": "execute_result",
          "data": {
            "text/plain": [
              "-306.0"
            ]
          },
          "metadata": {},
          "execution_count": 19
        }
      ]
    },
    {
      "cell_type": "code",
      "source": [
        "m=np.array([[3,2,0,1],[4,0,1,2],[3,0,2,1],[9,2,3,1]])\n",
        "np.linalg.det(m)"
      ],
      "metadata": {
        "colab": {
          "base_uri": "https://localhost:8080/"
        },
        "id": "DfNrbQJldGns",
        "outputId": "afc1f07f-ada7-4d70-c9bf-ec21e77ee5d7"
      },
      "id": "DfNrbQJldGns",
      "execution_count": 20,
      "outputs": [
        {
          "output_type": "execute_result",
          "data": {
            "text/plain": [
              "24.000000000000004"
            ]
          },
          "metadata": {},
          "execution_count": 20
        }
      ]
    },
    {
      "cell_type": "markdown",
      "id": "3d7f760c",
      "metadata": {
        "id": "3d7f760c"
      },
      "source": [
        "## Matrix Rank\n",
        "### Find the rank of the matrix (use rref and confirm using matrix_rank())"
      ]
    },
    {
      "cell_type": "markdown",
      "id": "39022ae4",
      "metadata": {
        "id": "39022ae4"
      },
      "source": [
        "$$X = \\begin{bmatrix} 1&2&4&4 \\\\ 3&4&8&0 \\end{bmatrix}$$\n",
        "$$Y = \\begin{bmatrix} 1&2&3 \\\\ 2&3&5 \\\\ 3&4&7 \\\\ 4&5&9  \\end{bmatrix}$$"
      ]
    },
    {
      "cell_type": "code",
      "source": [
        "x=sp.Matrix([[1,2,4,4],[3,4,8,0]])\n",
        "rref,pivot=x.rref()\n",
        "print(rref)\n",
        "print(pivot)\n",
        "print(f\"X rank : {len(pivot)}\")"
      ],
      "metadata": {
        "colab": {
          "base_uri": "https://localhost:8080/"
        },
        "id": "fC7NnBwpdf37",
        "outputId": "f7133f5f-be40-436d-ce8d-7282f6f62de1"
      },
      "id": "fC7NnBwpdf37",
      "execution_count": 25,
      "outputs": [
        {
          "output_type": "stream",
          "name": "stdout",
          "text": [
            "Matrix([[1, 0, 0, -8], [0, 1, 2, 6]])\n",
            "(0, 1)\n",
            "X rank : 2\n"
          ]
        }
      ]
    },
    {
      "cell_type": "code",
      "source": [
        "y=sp.Matrix([[1,2,3],[2,3,5],[3,4,7],[4,5,9]])\n",
        "rref,pivot=y.rref()\n",
        "print(rref)\n",
        "print(pivot)\n",
        "print(f\"y rank : {len(pivot)}\")"
      ],
      "metadata": {
        "colab": {
          "base_uri": "https://localhost:8080/"
        },
        "id": "s1JVGojLdftt",
        "outputId": "41c39601-e5a1-44ea-af1f-12d510c339f0"
      },
      "id": "s1JVGojLdftt",
      "execution_count": 26,
      "outputs": [
        {
          "output_type": "stream",
          "name": "stdout",
          "text": [
            "Matrix([[1, 0, 1], [0, 1, 1], [0, 0, 0], [0, 0, 0]])\n",
            "(0, 1)\n",
            "y rank : 2\n"
          ]
        }
      ]
    },
    {
      "cell_type": "code",
      "execution_count": null,
      "id": "6855c257",
      "metadata": {
        "id": "6855c257",
        "outputId": "c81fb41d-f5cb-4fc2-91d9-ad6c70e16740"
      },
      "outputs": [
        {
          "name": "stdout",
          "output_type": "stream",
          "text": [
            "(Matrix([\n",
            "[1, 0, 0, -8],\n",
            "[0, 1, 2,  6]]), (0, 1))\n",
            "\n",
            "X rank: 2\n"
          ]
        }
      ],
      "source": [
        "\n"
      ]
    },
    {
      "cell_type": "code",
      "execution_count": null,
      "id": "864a8f85",
      "metadata": {
        "id": "864a8f85",
        "outputId": "32fae281-22f8-4c0c-c72f-d029463af3ee"
      },
      "outputs": [
        {
          "name": "stdout",
          "output_type": "stream",
          "text": [
            "(Matrix([\n",
            "[1, 0, 1],\n",
            "[0, 1, 1],\n",
            "[0, 0, 0],\n",
            "[0, 0, 0]]), (0, 1))\n",
            "\n",
            "Y rank: 2\n"
          ]
        }
      ],
      "source": []
    },
    {
      "cell_type": "markdown",
      "id": "9b55ebcf",
      "metadata": {
        "id": "9b55ebcf"
      },
      "source": [
        "## Matrix Inverse\n",
        "### Find the inverse:"
      ]
    },
    {
      "cell_type": "markdown",
      "id": "6f15a14c",
      "metadata": {
        "id": "6f15a14c"
      },
      "source": [
        "$$\\begin{bmatrix} 3&8 \\\\ 4&6 \\end{bmatrix} , \\begin{bmatrix} 4&6 \\\\ 3&8 \\end{bmatrix}$$\n",
        "$$\\begin{bmatrix} 6&1&1 \\\\ 4&-2&5 \\\\ 2&8&7\\end{bmatrix}$$\n",
        "$$\\begin{bmatrix} 3&2&0&1 \\\\ 4&0&1&2 \\\\ 3&0&2&1 \\\\ 9&2&3&1\\end{bmatrix}$$"
      ]
    },
    {
      "cell_type": "code",
      "source": [
        "x=np.array([[3,8],[4,6]])\n",
        "np.linalg.inv(x)"
      ],
      "metadata": {
        "colab": {
          "base_uri": "https://localhost:8080/"
        },
        "id": "cmg0FfEWeWJr",
        "outputId": "377dcaa6-3c70-4f27-c766-b8ab056bcae7"
      },
      "id": "cmg0FfEWeWJr",
      "execution_count": 27,
      "outputs": [
        {
          "output_type": "execute_result",
          "data": {
            "text/plain": [
              "array([[-0.42857143,  0.57142857],\n",
              "       [ 0.28571429, -0.21428571]])"
            ]
          },
          "metadata": {},
          "execution_count": 27
        }
      ]
    },
    {
      "cell_type": "code",
      "source": [
        "y=np.array([[4,6],[3,8]])\n",
        "np.linalg.inv(y)"
      ],
      "metadata": {
        "colab": {
          "base_uri": "https://localhost:8080/"
        },
        "id": "umVDVhR9eXZG",
        "outputId": "2c3e73ec-a6d9-4af1-d95a-c87a5da5b61c"
      },
      "id": "umVDVhR9eXZG",
      "execution_count": 28,
      "outputs": [
        {
          "output_type": "execute_result",
          "data": {
            "text/plain": [
              "array([[ 0.57142857, -0.42857143],\n",
              "       [-0.21428571,  0.28571429]])"
            ]
          },
          "metadata": {},
          "execution_count": 28
        }
      ]
    },
    {
      "cell_type": "code",
      "source": [
        "z=np.array([[6,1,1],[4,-2,5],[2,8,7]])\n",
        "np.linalg.inv(z)"
      ],
      "metadata": {
        "colab": {
          "base_uri": "https://localhost:8080/"
        },
        "id": "RhBiXilYefCb",
        "outputId": "280d159e-9766-4e42-815a-46192ab43a90"
      },
      "id": "RhBiXilYefCb",
      "execution_count": 29,
      "outputs": [
        {
          "output_type": "execute_result",
          "data": {
            "text/plain": [
              "array([[ 0.17647059, -0.00326797, -0.02287582],\n",
              "       [ 0.05882353, -0.13071895,  0.08496732],\n",
              "       [-0.11764706,  0.1503268 ,  0.05228758]])"
            ]
          },
          "metadata": {},
          "execution_count": 29
        }
      ]
    },
    {
      "cell_type": "code",
      "source": [
        "m=np.array([[3,2,0,1],[4,0,1,2],[3,0,2,1],[9,2,3,1]])\n",
        "np.linalg.inv(m)"
      ],
      "metadata": {
        "colab": {
          "base_uri": "https://localhost:8080/"
        },
        "id": "VpH1TlJjejzb",
        "outputId": "98af704c-3781-4070-e7d0-437ba85e5a30"
      },
      "id": "VpH1TlJjejzb",
      "execution_count": 30,
      "outputs": [
        {
          "output_type": "execute_result",
          "data": {
            "text/plain": [
              "array([[-0.25      ,  0.25      , -0.5       ,  0.25      ],\n",
              "       [ 0.66666667, -0.5       ,  0.5       , -0.16666667],\n",
              "       [ 0.16666667, -0.5       ,  1.        , -0.16666667],\n",
              "       [ 0.41666667,  0.25      ,  0.5       , -0.41666667]])"
            ]
          },
          "metadata": {},
          "execution_count": 30
        }
      ]
    },
    {
      "cell_type": "code",
      "execution_count": null,
      "id": "ff81fb7b",
      "metadata": {
        "id": "ff81fb7b",
        "outputId": "0a637ff8-4a23-4cfd-ea2c-3a0360dadf91"
      },
      "outputs": [
        {
          "name": "stdout",
          "output_type": "stream",
          "text": [
            "1.\n",
            " [[-0.42857143  0.57142857]\n",
            " [ 0.28571429 -0.21428571]]\n",
            "\n",
            "2.\n",
            " [[ 0.57142857 -0.42857143]\n",
            " [-0.21428571  0.28571429]]\n",
            "\n",
            "3.\n",
            " [[ 0.17647059 -0.00326797 -0.02287582]\n",
            " [ 0.05882353 -0.13071895  0.08496732]\n",
            " [-0.11764706  0.1503268   0.05228758]]\n",
            "\n",
            "4.\n",
            " [[-0.25        0.25       -0.5         0.25      ]\n",
            " [ 0.66666667 -0.5         0.5        -0.16666667]\n",
            " [ 0.16666667 -0.5         1.         -0.16666667]\n",
            " [ 0.41666667  0.25        0.5        -0.41666667]]\n"
          ]
        }
      ],
      "source": []
    },
    {
      "cell_type": "markdown",
      "id": "6dfa4568",
      "metadata": {
        "id": "6dfa4568"
      },
      "source": [
        "## Changing Basis (Orthogonal Coordinates)\n",
        "### Perform the following (Once by dot product and another by matix).\n",
        "### First confirm b1 and b2 are orthogonal basis."
      ]
    },
    {
      "cell_type": "markdown",
      "id": "692ef07f",
      "metadata": {
        "id": "692ef07f"
      },
      "source": [
        "### 1) Transform $v=\\begin{bmatrix}5 \\\\ -1\\end{bmatrix}$ from the stadard basis to b1 and b2 basis. $b_1=\\begin{bmatrix}1 \\\\ 1\\end{bmatrix}$ , $b_2=\\begin{bmatrix}1\\\\-1\\end{bmatrix}$\n",
        "### 2) Transform $v=\\begin{bmatrix}10\\\\-5\\end{bmatrix}$ from the stadard basis to b1 and b2 basis. $b_1=\\begin{bmatrix}3\\\\ 4\\end{bmatrix}$ , $b_2=\\begin{bmatrix} 4 \\\\-3 \\end{bmatrix}$"
      ]
    },
    {
      "cell_type": "code",
      "source": [
        "b=np.array([[1,1],[1,-1]])\n",
        "transform=np.array([[5],[-1]])\n",
        "b1=(np.dot(transform.T,b[0]))/(np.linalg.norm(b[0])**2)\n",
        "b2=(np.dot(transform.T,b[1]))/(np.linalg.norm(b[1])**2)\n",
        "np.array([[b1],[b2]])"
      ],
      "metadata": {
        "colab": {
          "base_uri": "https://localhost:8080/"
        },
        "id": "YJ0kneLIheEN",
        "outputId": "d915ffa7-92fd-4351-eddc-02360ae065b9"
      },
      "id": "YJ0kneLIheEN",
      "execution_count": 42,
      "outputs": [
        {
          "output_type": "execute_result",
          "data": {
            "text/plain": [
              "array([[[2.]],\n",
              "\n",
              "       [[3.]]])"
            ]
          },
          "metadata": {},
          "execution_count": 42
        }
      ]
    },
    {
      "cell_type": "code",
      "source": [
        "np.linalg.inv(b)@transform"
      ],
      "metadata": {
        "colab": {
          "base_uri": "https://localhost:8080/"
        },
        "id": "1DpLRWcKmMPJ",
        "outputId": "23f20083-8b70-4484-fd17-5b1b75a904b0"
      },
      "id": "1DpLRWcKmMPJ",
      "execution_count": 43,
      "outputs": [
        {
          "output_type": "execute_result",
          "data": {
            "text/plain": [
              "array([[2.],\n",
              "       [3.]])"
            ]
          },
          "metadata": {},
          "execution_count": 43
        }
      ]
    },
    {
      "cell_type": "code",
      "execution_count": null,
      "id": "1ac7a564",
      "metadata": {
        "id": "1ac7a564",
        "outputId": "f288cda5-1075-4d1a-baee-d698d4da1532"
      },
      "outputs": [
        {
          "name": "stdout",
          "output_type": "stream",
          "text": [
            "Using dot product\n",
            "vb:\n",
            "[[2.]\n",
            " [3.]]\n"
          ]
        }
      ],
      "source": [
        "# Ex. 1 Using dot product\n"
      ]
    },
    {
      "cell_type": "code",
      "execution_count": 40,
      "id": "9459afa8",
      "metadata": {
        "colab": {
          "base_uri": "https://localhost:8080/"
        },
        "id": "9459afa8",
        "outputId": "8b453ee1-32e6-45b1-a9d1-0a9a1b1025bf"
      },
      "outputs": [
        {
          "output_type": "execute_result",
          "data": {
            "text/plain": [
              "array([[[0.4]],\n",
              "\n",
              "       [[2.2]]])"
            ]
          },
          "metadata": {},
          "execution_count": 40
        }
      ],
      "source": [
        "b=np.array([[3,4],[4,-3]])\n",
        "transform=np.array([[10],[-5]])\n",
        "b1=(np.dot(transform.T,b[0]))/(np.linalg.norm(b[0])**2)\n",
        "b2=(np.dot(transform.T,b[1]))/(np.linalg.norm(b[1])**2)\n",
        "np.array([[b1],[b2]])"
      ]
    },
    {
      "cell_type": "code",
      "source": [
        "np.linalg.inv(b)@transform"
      ],
      "metadata": {
        "colab": {
          "base_uri": "https://localhost:8080/"
        },
        "id": "c0fum4nFmFp1",
        "outputId": "f11f2c33-bb1f-4792-bb7e-d0a8c35e6d30"
      },
      "id": "c0fum4nFmFp1",
      "execution_count": 41,
      "outputs": [
        {
          "output_type": "execute_result",
          "data": {
            "text/plain": [
              "array([[0.4],\n",
              "       [2.2]])"
            ]
          },
          "metadata": {},
          "execution_count": 41
        }
      ]
    },
    {
      "cell_type": "code",
      "execution_count": null,
      "id": "f1738498",
      "metadata": {
        "scrolled": false,
        "id": "f1738498",
        "outputId": "bc71426a-ff18-410d-ef4a-923e0e70ebbf"
      },
      "outputs": [
        {
          "name": "stdout",
          "output_type": "stream",
          "text": [
            "Using transformation matrix\n",
            "vb:\n",
            "[[2.]\n",
            " [3.]]\n"
          ]
        }
      ],
      "source": [
        "# Ex. 1 Using transformation matrix\n"
      ]
    },
    {
      "cell_type": "code",
      "execution_count": null,
      "id": "dcc51c8d",
      "metadata": {
        "id": "dcc51c8d",
        "outputId": "fb388cfe-09e2-41ce-d855-ccbddcff295e"
      },
      "outputs": [
        {
          "name": "stdout",
          "output_type": "stream",
          "text": [
            "Using dot product\n",
            "vb:\n",
            "[[0.4]\n",
            " [2.2]]\n"
          ]
        }
      ],
      "source": [
        "# Ex. 2 Using dot product\n"
      ]
    },
    {
      "cell_type": "code",
      "execution_count": null,
      "id": "0ac3632f",
      "metadata": {
        "scrolled": false,
        "id": "0ac3632f",
        "outputId": "6ca67131-23ea-4439-bf32-34a1f285cacc"
      },
      "outputs": [
        {
          "name": "stdout",
          "output_type": "stream",
          "text": [
            "Using transformation matrix\n",
            "vb:\n",
            "[[0.4]\n",
            " [2.2]]\n"
          ]
        }
      ],
      "source": [
        "# Ex. 2 Using transformation matrix\n"
      ]
    },
    {
      "cell_type": "code",
      "execution_count": null,
      "id": "dc222f7d",
      "metadata": {
        "id": "dc222f7d"
      },
      "outputs": [],
      "source": []
    },
    {
      "cell_type": "markdown",
      "id": "87b1b94e",
      "metadata": {
        "id": "87b1b94e"
      },
      "source": [
        "## Changing Basis (Non-Orthogonal Coordinates)\n",
        "### Perform the following.\n",
        "### First confirm b1 and b2 are non-orthogonal basis."
      ]
    },
    {
      "cell_type": "markdown",
      "id": "e3bd8da4",
      "metadata": {
        "id": "e3bd8da4"
      },
      "source": [
        "### - Transform $v=\\begin{bmatrix}5 \\\\ 2\\end{bmatrix}$ from the stadard basis to b1 and b2 basis. $b_1=\\begin{bmatrix}3 \\\\ 1\\end{bmatrix}$ , $b_2=\\begin{bmatrix}1\\\\1\\end{bmatrix}$\n"
      ]
    },
    {
      "cell_type": "code",
      "source": [
        "b=np.array([[3,1],[1,1]])\n",
        "b_inv=np.linalg.inv(b)\n",
        "transform=np.array([[5],[2]])\n",
        "b_inv@transform"
      ],
      "metadata": {
        "colab": {
          "base_uri": "https://localhost:8080/"
        },
        "id": "17iVQO3gmuYl",
        "outputId": "e82e1705-2684-4636-a7db-fcbab011d94b"
      },
      "id": "17iVQO3gmuYl",
      "execution_count": 45,
      "outputs": [
        {
          "output_type": "execute_result",
          "data": {
            "text/plain": [
              "array([[1.5],\n",
              "       [0.5]])"
            ]
          },
          "metadata": {},
          "execution_count": 45
        }
      ]
    },
    {
      "cell_type": "code",
      "execution_count": null,
      "id": "dc21f392",
      "metadata": {
        "id": "dc21f392",
        "outputId": "979662be-d1de-4207-ab62-45f2a41beb1f"
      },
      "outputs": [
        {
          "name": "stdout",
          "output_type": "stream",
          "text": [
            "vb:\n",
            "[[1.5]\n",
            " [0.5]]\n"
          ]
        }
      ],
      "source": []
    },
    {
      "cell_type": "markdown",
      "id": "96465cd3",
      "metadata": {
        "id": "96465cd3"
      },
      "source": [
        "## Transformation in Non-Orthonormal Space\n",
        "### - For $R^2$ defined by the basis basis. $b_1=\\begin{bmatrix}3 \\\\ 1\\end{bmatrix}$ , $b_2=\\begin{bmatrix}1\\\\1\\end{bmatrix}$\n",
        "### - Find the transformation matrix in B coordinate system for the following transformations:\n",
        "#### 1- Reflection around x-axis $T=\\begin{bmatrix} 1&0 \\\\ 0&-1\\end{bmatrix}$\n",
        "#### 2- Rotation matrix $T=\\begin{bmatrix} 0&1 \\\\ -1&0\\end{bmatrix}$\n",
        "### - Apply these transformation to the vector  $v_b=\\begin{bmatrix}1.5 \\\\ 0.5\\end{bmatrix}$"
      ]
    },
    {
      "cell_type": "code",
      "source": [
        "b=np.array([[3,1],[1,1]])\n",
        "transform=np.array([[1,0],[0,-1]])\n",
        "b_inv=np.linalg.inv(b)\n",
        "v=np.array([[1.5],[.5]])\n",
        "b_inv@transform@b@v"
      ],
      "metadata": {
        "colab": {
          "base_uri": "https://localhost:8080/"
        },
        "id": "0lsTvgqWoUen",
        "outputId": "4d8b0aa7-bbad-4a39-96f1-d8609ae421f7"
      },
      "id": "0lsTvgqWoUen",
      "execution_count": 48,
      "outputs": [
        {
          "output_type": "execute_result",
          "data": {
            "text/plain": [
              "array([[ 3.5],\n",
              "       [-5.5]])"
            ]
          },
          "metadata": {},
          "execution_count": 48
        }
      ]
    },
    {
      "cell_type": "code",
      "source": [
        "b=np.array([[3,1],[1,1]])\n",
        "transform=np.array([[0,1],[-1,0]])\n",
        "b_inv=np.linalg.inv(b)\n",
        "v=np.array([[1.5],[.5]])\n",
        "b_inv@transform@b@v"
      ],
      "metadata": {
        "colab": {
          "base_uri": "https://localhost:8080/"
        },
        "id": "KPGpy6HoqWsP",
        "outputId": "3ef4d07f-3eaf-409c-a9be-34606798ae2b"
      },
      "id": "KPGpy6HoqWsP",
      "execution_count": 49,
      "outputs": [
        {
          "output_type": "execute_result",
          "data": {
            "text/plain": [
              "array([[ 3.5],\n",
              "       [-8.5]])"
            ]
          },
          "metadata": {},
          "execution_count": 49
        }
      ]
    },
    {
      "cell_type": "code",
      "execution_count": null,
      "id": "086947f1",
      "metadata": {
        "id": "086947f1",
        "outputId": "7bd4ece7-8275-4e11-ef1e-5d68c838ca02"
      },
      "outputs": [
        {
          "name": "stdout",
          "output_type": "stream",
          "text": [
            "TB1 =\n",
            " [[ 2.  1.]\n",
            " [-3. -2.]]\n",
            "\n",
            "TB2 =\n",
            " [[ 2.  1.]\n",
            " [-5. -2.]]\n",
            "\n",
            "vb_TB1 =\n",
            " [[ 3.5]\n",
            " [-5.5]]\n",
            "\n",
            "vb_TB2 =\n",
            " [[ 3.5]\n",
            " [-8.5]]\n"
          ]
        }
      ],
      "source": []
    },
    {
      "cell_type": "markdown",
      "id": "2b687c17",
      "metadata": {
        "id": "2b687c17"
      },
      "source": [
        "## Gram–Schmidt Process (Orthogonalization)\n",
        "### Apply Gram-Shmidt process for the following sequence in vectors in $R^3$:\n",
        "### $$\\begin{bmatrix}1 \\\\2\\\\ 0\\end{bmatrix} , \\begin{bmatrix}8 \\\\1\\\\ -6\\end{bmatrix} , \\begin{bmatrix}0 \\\\0\\\\ 1\\end{bmatrix}$$\n",
        "#### Confirm your answer using numpy.linalg.qr() function\n",
        "#### Make sure all vectors given above are basis in $R^3$ space.\n",
        "#### Confirm that the orthogonal matrix has orthonormal vectors.\n",
        "#### Confirm that the transpose of the orthogonal matrix is it's inverse.\n",
        "#### Reflect the vector r = (1,3,4) arround the xy plane containing the two vectors $\\begin{bmatrix}1 \\\\2\\\\ 0\\end{bmatrix} , \\begin{bmatrix}8 \\\\1\\\\ -6\\end{bmatrix}$.\n",
        "#### Round all results to 3 decimal points."
      ]
    },
    {
      "cell_type": "code",
      "source": [
        "v=np.array([[1,2,0],\n",
        "             [8,1,-6],\n",
        "             [0,0,1]])\n",
        "np.linalg.det(v).round()"
      ],
      "metadata": {
        "colab": {
          "base_uri": "https://localhost:8080/"
        },
        "id": "kgCl-LHp3z9v",
        "outputId": "0886f5b6-9008-46b3-89b8-dcba441a5fcb"
      },
      "id": "kgCl-LHp3z9v",
      "execution_count": 98,
      "outputs": [
        {
          "output_type": "execute_result",
          "data": {
            "text/plain": [
              "-15.0"
            ]
          },
          "metadata": {},
          "execution_count": 98
        }
      ]
    },
    {
      "cell_type": "code",
      "source": [
        "v1=v[0]\n",
        "u1=v1\n",
        "u1"
      ],
      "metadata": {
        "colab": {
          "base_uri": "https://localhost:8080/"
        },
        "id": "g87e8ZDk4kTI",
        "outputId": "8e877c65-3655-4c28-b7c5-6d1c30804824"
      },
      "id": "g87e8ZDk4kTI",
      "execution_count": 95,
      "outputs": [
        {
          "output_type": "execute_result",
          "data": {
            "text/plain": [
              "array([1, 2, 0])"
            ]
          },
          "metadata": {},
          "execution_count": 95
        }
      ]
    },
    {
      "cell_type": "code",
      "source": [
        "v2=v[1]\n",
        "u2=(v2-(np.dot(v1,v2))/(np.linalg.norm(v1)**2)*v1)\n",
        "u2/=np.linalg.norm(u2)\n",
        "u2"
      ],
      "metadata": {
        "colab": {
          "base_uri": "https://localhost:8080/"
        },
        "id": "daDWJBeJ4qNA",
        "outputId": "55fa045f-1962-4201-fe9f-7fc200d97464"
      },
      "id": "daDWJBeJ4qNA",
      "execution_count": 96,
      "outputs": [
        {
          "output_type": "execute_result",
          "data": {
            "text/plain": [
              "array([ 0.66666667, -0.33333333, -0.66666667])"
            ]
          },
          "metadata": {},
          "execution_count": 96
        }
      ]
    },
    {
      "cell_type": "code",
      "source": [
        "v3=v[2]\n",
        "u3=v3-(np.dot(v1,v3))/(np.linalg.norm(v1)**2)*v1-(np.dot(u2,v3))/(np.linalg.norm(u2)**2)*u2\n",
        "u3/=np.linalg.norm(u3)\n",
        "u3"
      ],
      "metadata": {
        "colab": {
          "base_uri": "https://localhost:8080/"
        },
        "id": "gnB_Gkmy4vew",
        "outputId": "04463daf-6b59-4aa1-ed05-fb75134cd279"
      },
      "id": "gnB_Gkmy4vew",
      "execution_count": 97,
      "outputs": [
        {
          "output_type": "execute_result",
          "data": {
            "text/plain": [
              "array([ 0.59628479, -0.2981424 ,  0.74535599])"
            ]
          },
          "metadata": {},
          "execution_count": 97
        }
      ]
    },
    {
      "cell_type": "code",
      "source": [
        "np.linalg.qr(v)"
      ],
      "metadata": {
        "colab": {
          "base_uri": "https://localhost:8080/"
        },
        "id": "dxX8JNmL5Dzn",
        "outputId": "104e5294-37f2-48fd-fa6f-0217bbe0e324"
      },
      "id": "dxX8JNmL5Dzn",
      "execution_count": 101,
      "outputs": [
        {
          "output_type": "execute_result",
          "data": {
            "text/plain": [
              "QRResult(Q=array([[-0.12403473, -0.99227788,  0.        ],\n",
              "       [-0.99227788,  0.12403473,  0.        ],\n",
              "       [-0.        ,  0.        ,  1.        ]]), R=array([[-8.06225775, -1.24034735,  5.95366726],\n",
              "       [ 0.        , -1.86052102, -0.74420841],\n",
              "       [ 0.        ,  0.        ,  1.        ]]))"
            ]
          },
          "metadata": {},
          "execution_count": 101
        }
      ]
    },
    {
      "cell_type": "code",
      "source": [
        "ref,pivot=sp.Matrix(v).rref()\n",
        "print(ref)\n",
        "print(pivot)"
      ],
      "metadata": {
        "colab": {
          "base_uri": "https://localhost:8080/"
        },
        "id": "YuCJRPm15ccg",
        "outputId": "7184a470-5f1b-4b4c-b035-403dc1c97254"
      },
      "id": "YuCJRPm15ccg",
      "execution_count": 102,
      "outputs": [
        {
          "output_type": "stream",
          "name": "stdout",
          "text": [
            "Matrix([[1, 0, 0], [0, 1, 0], [0, 0, 1]])\n",
            "(0, 1, 2)\n"
          ]
        }
      ]
    },
    {
      "cell_type": "code",
      "source": [
        "v1=v[0]\n",
        "v2=v[1]\n",
        "p=np.array([1,3,4])\n",
        "u1=v1\n",
        "u2=(v2-(np.dot(v1,v2))/(np.linalg.norm(v1)**2)*v1)\n",
        "u2/=np.linalg.norm(u2)\n",
        "ref= p - 2 * (p - (u1 + u2))\n",
        "ref"
      ],
      "metadata": {
        "colab": {
          "base_uri": "https://localhost:8080/"
        },
        "id": "vvuIGH-U6JVA",
        "outputId": "67df29a1-bc1d-499c-b9c4-8e289106b43f"
      },
      "id": "vvuIGH-U6JVA",
      "execution_count": 103,
      "outputs": [
        {
          "output_type": "execute_result",
          "data": {
            "text/plain": [
              "array([ 2.33333333,  0.33333333, -5.33333333])"
            ]
          },
          "metadata": {},
          "execution_count": 103
        }
      ]
    },
    {
      "cell_type": "code",
      "execution_count": null,
      "id": "07ba3659",
      "metadata": {
        "id": "07ba3659",
        "outputId": "873d4a89-222a-4427-d3a7-eac4d10237ca"
      },
      "outputs": [
        {
          "name": "stdout",
          "output_type": "stream",
          "text": [
            "det(V): -15.0\n",
            "Mrref:\n",
            " (Matrix([\n",
            "[1, 0, 0],\n",
            "[0, 1, 0],\n",
            "[0, 0, 1]]), (0, 1, 2))\n"
          ]
        }
      ],
      "source": []
    },
    {
      "cell_type": "code",
      "execution_count": null,
      "id": "95031239",
      "metadata": {
        "id": "95031239",
        "outputId": "c4b4abaa-8682-44cd-9c1a-ffb74b9b7d66"
      },
      "outputs": [
        {
          "name": "stdout",
          "output_type": "stream",
          "text": [
            "u1:\n",
            "[[1]\n",
            " [2]\n",
            " [0]]\n",
            "\n",
            "u2:\n",
            "[[ 6.]\n",
            " [-3.]\n",
            " [-6.]]\n",
            "\n",
            "u3:\n",
            "[[ 0.44444444]\n",
            " [-0.22222222]\n",
            " [ 0.55555556]]\n",
            "\n",
            "e1:\n",
            "[[0.4472136 ]\n",
            " [0.89442719]\n",
            " [0.        ]]\n",
            "\n",
            "e2:\n",
            "[[ 0.66666667]\n",
            " [-0.33333333]\n",
            " [-0.66666667]]\n",
            "\n",
            "e3:\n",
            "[[ 0.59628479]\n",
            " [-0.2981424 ]\n",
            " [ 0.74535599]]\n"
          ]
        }
      ],
      "source": []
    },
    {
      "cell_type": "code",
      "execution_count": null,
      "id": "857b9624",
      "metadata": {
        "scrolled": true,
        "id": "857b9624",
        "outputId": "a166825f-51d9-4148-d2d1-542a53c960bd"
      },
      "outputs": [
        {
          "name": "stdout",
          "output_type": "stream",
          "text": [
            "Using QR:\n",
            "[[-0.4472136   0.66666667  0.59628479]\n",
            " [-0.89442719 -0.33333333 -0.2981424 ]\n",
            " [-0.         -0.66666667  0.74535599]]\n"
          ]
        }
      ],
      "source": []
    },
    {
      "cell_type": "code",
      "execution_count": null,
      "id": "5c2e8898",
      "metadata": {
        "id": "5c2e8898",
        "outputId": "f759c98a-06c3-4fdd-caee-937b203d2f0f"
      },
      "outputs": [
        {
          "data": {
            "text/plain": [
              "1.0"
            ]
          },
          "execution_count": 10,
          "metadata": {},
          "output_type": "execute_result"
        }
      ],
      "source": []
    },
    {
      "cell_type": "code",
      "execution_count": null,
      "id": "405735fa",
      "metadata": {
        "id": "405735fa",
        "outputId": "8ebcfd52-4a3f-47f5-bab6-cb358ba2a401"
      },
      "outputs": [
        {
          "name": "stdout",
          "output_type": "stream",
          "text": [
            "Q Inverse:\n",
            " [[-0.447 -0.894 -0.   ]\n",
            " [ 0.667 -0.333 -0.667]\n",
            " [ 0.596 -0.298  0.745]]\n",
            "Q Transpose\n",
            " [[-0.447 -0.894 -0.   ]\n",
            " [ 0.667 -0.333 -0.667]\n",
            " [ 0.596 -0.298  0.745]]\n"
          ]
        }
      ],
      "source": []
    },
    {
      "cell_type": "code",
      "execution_count": null,
      "id": "53e683d9",
      "metadata": {
        "id": "53e683d9",
        "outputId": "e53e934d-e240-4ec5-a910-67d6c50ea0a4"
      },
      "outputs": [
        {
          "name": "stdout",
          "output_type": "stream",
          "text": [
            "Transformation matrix in the non-orthonormal basis:\n",
            "[[ 0.28888889  0.35555556 -0.88888889]\n",
            " [ 0.35555556  0.82222222  0.44444444]\n",
            " [-0.88888889  0.44444444 -0.11111111]]\n",
            "\n",
            "Transformed vector:\n",
            "[[-2.2]\n",
            " [ 4.6]\n",
            " [ 0. ]]\n"
          ]
        }
      ],
      "source": []
    },
    {
      "cell_type": "code",
      "execution_count": null,
      "id": "b788c2df",
      "metadata": {
        "id": "b788c2df"
      },
      "outputs": [],
      "source": []
    },
    {
      "cell_type": "markdown",
      "id": "000d0435",
      "metadata": {
        "id": "000d0435"
      },
      "source": [
        "![image.png](attachment:image.png)"
      ]
    },
    {
      "cell_type": "markdown",
      "id": "a23f38af",
      "metadata": {
        "id": "a23f38af"
      },
      "source": [
        "# Quiz 1\n",
        "![image-2.png](attachment:image-2.png)"
      ]
    },
    {
      "cell_type": "code",
      "execution_count": 51,
      "id": "9448193f",
      "metadata": {
        "colab": {
          "base_uri": "https://localhost:8080/"
        },
        "id": "9448193f",
        "outputId": "7b60c036-1c06-41a8-d3bd-fc0c0f279caa"
      },
      "outputs": [
        {
          "output_type": "stream",
          "name": "stdout",
          "text": [
            "Matrix([[1, 0, 0, 4], [0, 1, 0, 7], [0, 0, 1, -1]])\n",
            "Matrix([[1, 0, 0, 4], [0, 1, 0, 7], [0, 0, 1, -1]])\n",
            "(0, 1, 2)\n",
            "span\n"
          ]
        }
      ],
      "source": [
        "mat=sp.Matrix([(1,0,0,4),(0,1,0,7),(0,0,1,-1)])\n",
        "print(mat)\n",
        "rref,pivot=mat.rref()\n",
        "print(rref)\n",
        "print(pivot)\n",
        "print(\"span\")"
      ]
    },
    {
      "cell_type": "code",
      "source": [
        "mat=sp.Matrix([\n",
        "    [4, 1, 0],\n",
        "    [5, 2, 1]  ])\n",
        "rref,pivot=mat.rref()\n",
        "print(rref)\n",
        "print(pivot)\n",
        "print(\"dependent\")"
      ],
      "metadata": {
        "colab": {
          "base_uri": "https://localhost:8080/"
        },
        "id": "07XQoSA9rwId",
        "outputId": "c25e40f7-3186-4720-a5b7-2e66e7891503"
      },
      "id": "07XQoSA9rwId",
      "execution_count": 55,
      "outputs": [
        {
          "output_type": "stream",
          "name": "stdout",
          "text": [
            "Matrix([[1, 0, -1/3], [0, 1, 4/3]])\n",
            "(0, 1)\n",
            "dependent\n"
          ]
        }
      ]
    },
    {
      "cell_type": "code",
      "source": [
        "mat=sp.Matrix([\n",
        "    [1, 0, 0],\n",
        "    [0, 1, 2],\n",
        "    [0, 0, 1]])\n",
        "rref,pivot=mat.rref()\n",
        "print(rref)\n",
        "print(pivot)\n",
        "print(\"independent\")"
      ],
      "metadata": {
        "colab": {
          "base_uri": "https://localhost:8080/"
        },
        "id": "7thOGh5erzLI",
        "outputId": "f681761a-5207-4496-99a3-bdda89560327"
      },
      "id": "7thOGh5erzLI",
      "execution_count": 56,
      "outputs": [
        {
          "output_type": "stream",
          "name": "stdout",
          "text": [
            "Matrix([[1, 0, 0], [0, 1, 0], [0, 0, 1]])\n",
            "(0, 1, 2)\n",
            "independent\n"
          ]
        }
      ]
    },
    {
      "cell_type": "code",
      "source": [
        "mat=np.eye(4)\n",
        "print(mat)"
      ],
      "metadata": {
        "colab": {
          "base_uri": "https://localhost:8080/"
        },
        "id": "ynonAMT8r48P",
        "outputId": "6a268c9e-b80c-4f76-f966-750ad0b98103"
      },
      "id": "ynonAMT8r48P",
      "execution_count": 57,
      "outputs": [
        {
          "output_type": "stream",
          "name": "stdout",
          "text": [
            "[[1. 0. 0. 0.]\n",
            " [0. 1. 0. 0.]\n",
            " [0. 0. 1. 0.]\n",
            " [0. 0. 0. 1.]]\n"
          ]
        }
      ]
    },
    {
      "cell_type": "code",
      "source": [
        "b=np.array([[4.5,-0.5],[-2.5,0.5]])\n",
        "v=np.array([[1],[3]])\n",
        "b@v"
      ],
      "metadata": {
        "colab": {
          "base_uri": "https://localhost:8080/"
        },
        "id": "XkI5pcAqr51Y",
        "outputId": "e867de7f-40b1-44ef-8273-e01ce21c0ef2"
      },
      "id": "XkI5pcAqr51Y",
      "execution_count": 60,
      "outputs": [
        {
          "output_type": "execute_result",
          "data": {
            "text/plain": [
              "array([[ 3.],\n",
              "       [-1.]])"
            ]
          },
          "metadata": {},
          "execution_count": 60
        }
      ]
    },
    {
      "cell_type": "markdown",
      "id": "77f2618c",
      "metadata": {
        "id": "77f2618c"
      },
      "source": [
        "# Quiz 2\n",
        "![image-3.png](attachment:image-3.png)"
      ]
    },
    {
      "cell_type": "code",
      "execution_count": 62,
      "id": "d9e79bf1",
      "metadata": {
        "colab": {
          "base_uri": "https://localhost:8080/"
        },
        "id": "d9e79bf1",
        "outputId": "359aaa9a-4929-4879-a2d1-8d084abe072f"
      },
      "outputs": [
        {
          "output_type": "execute_result",
          "data": {
            "text/plain": [
              "array([[ 1],\n",
              "       [-1]])"
            ]
          },
          "metadata": {},
          "execution_count": 62
        }
      ],
      "source": [
        "mat=np.array([[1,0],[0,-1]])\n",
        "rot=np.array([[1],[1]])\n",
        "mat@rot"
      ]
    },
    {
      "cell_type": "code",
      "source": [
        "sh=np.array([[1,0],[0,5]])\n",
        "mat@sh@rot"
      ],
      "metadata": {
        "colab": {
          "base_uri": "https://localhost:8080/"
        },
        "id": "xJ109epTtobB",
        "outputId": "34dcfb20-f103-4753-8793-573558a85116"
      },
      "id": "xJ109epTtobB",
      "execution_count": 63,
      "outputs": [
        {
          "output_type": "execute_result",
          "data": {
            "text/plain": [
              "array([[ 1],\n",
              "       [-5]])"
            ]
          },
          "metadata": {},
          "execution_count": 63
        }
      ]
    },
    {
      "cell_type": "markdown",
      "id": "fb749540",
      "metadata": {
        "id": "fb749540"
      },
      "source": [
        "# Quiz 3\n",
        "![image-4.png](attachment:image-4.png)"
      ]
    },
    {
      "cell_type": "code",
      "execution_count": 66,
      "id": "46517d0f",
      "metadata": {
        "colab": {
          "base_uri": "https://localhost:8080/"
        },
        "id": "46517d0f",
        "outputId": "7acb3524-8ba4-460b-c9c2-78d984db490b"
      },
      "outputs": [
        {
          "output_type": "stream",
          "name": "stdout",
          "text": [
            "det : -6.999999999999999\n",
            "inv : [[ 0.71428571 -0.14285714]\n",
            " [ 0.42857143 -0.28571429]]\n"
          ]
        }
      ],
      "source": [
        "mat=np.array([(2,-1),(3,-5)])\n",
        "print(f'det : {np.linalg.det(mat)}')\n",
        "print(f'inv : {np.linalg.inv(mat)}')"
      ]
    },
    {
      "cell_type": "code",
      "source": [
        "mat=np.array([(1,3,-2),(0,1,4),(0,1,1)])\n",
        "print(f'det : {np.linalg.det(mat)}')\n",
        "print(f'inv : {np.linalg.inv(mat)}')"
      ],
      "metadata": {
        "colab": {
          "base_uri": "https://localhost:8080/"
        },
        "id": "exOpoZyTuanV",
        "outputId": "ef4e7fdd-0040-46c7-bd64-b3d3d9627ae4"
      },
      "id": "exOpoZyTuanV",
      "execution_count": 64,
      "outputs": [
        {
          "output_type": "stream",
          "name": "stdout",
          "text": [
            "det : -3.0000000000000004\n",
            "inv : [[ 1.          1.66666667 -4.66666667]\n",
            " [ 0.         -0.33333333  1.33333333]\n",
            " [-0.          0.33333333 -0.33333333]]\n"
          ]
        }
      ]
    },
    {
      "cell_type": "code",
      "source": [
        "mat=np.array([(12,3,1),(2,0,2),(18,0,1)])\n",
        "print(f'det : {np.linalg.det(mat)}')\n",
        "print(f'inv : {np.linalg.inv(mat)}')"
      ],
      "metadata": {
        "colab": {
          "base_uri": "https://localhost:8080/"
        },
        "id": "KR4sKcHDuhdT",
        "outputId": "4c4953c0-1f14-4b42-db6e-186b4acc1fc2"
      },
      "id": "KR4sKcHDuhdT",
      "execution_count": 65,
      "outputs": [
        {
          "output_type": "stream",
          "name": "stdout",
          "text": [
            "det : 102.00000000000004\n",
            "inv : [[ 0.         -0.02941176  0.05882353]\n",
            " [ 0.33333333 -0.05882353 -0.21568627]\n",
            " [ 0.          0.52941176 -0.05882353]]\n"
          ]
        }
      ]
    },
    {
      "cell_type": "code",
      "source": [
        "mat=np.array([(1,2,3),(3,6,9)])\n",
        "print(f'det : {np.linalg.det(mat)}')\n",
        "print(f'inv : {np.linalg.inv(mat)}')"
      ],
      "metadata": {
        "colab": {
          "base_uri": "https://localhost:8080/",
          "height": 321
        },
        "id": "a2PMnWJcuooQ",
        "outputId": "cc97b186-3db3-4c72-adfe-34ced4b949b1"
      },
      "id": "a2PMnWJcuooQ",
      "execution_count": 67,
      "outputs": [
        {
          "output_type": "error",
          "ename": "LinAlgError",
          "evalue": "Last 2 dimensions of the array must be square",
          "traceback": [
            "\u001b[0;31m---------------------------------------------------------------------------\u001b[0m",
            "\u001b[0;31mLinAlgError\u001b[0m                               Traceback (most recent call last)",
            "\u001b[0;32m<ipython-input-67-28da3dad06c3>\u001b[0m in \u001b[0;36m<cell line: 2>\u001b[0;34m()\u001b[0m\n\u001b[1;32m      1\u001b[0m \u001b[0mmat\u001b[0m\u001b[0;34m=\u001b[0m\u001b[0mnp\u001b[0m\u001b[0;34m.\u001b[0m\u001b[0marray\u001b[0m\u001b[0;34m(\u001b[0m\u001b[0;34m[\u001b[0m\u001b[0;34m(\u001b[0m\u001b[0;36m1\u001b[0m\u001b[0;34m,\u001b[0m\u001b[0;36m2\u001b[0m\u001b[0;34m,\u001b[0m\u001b[0;36m3\u001b[0m\u001b[0;34m)\u001b[0m\u001b[0;34m,\u001b[0m\u001b[0;34m(\u001b[0m\u001b[0;36m3\u001b[0m\u001b[0;34m,\u001b[0m\u001b[0;36m6\u001b[0m\u001b[0;34m,\u001b[0m\u001b[0;36m9\u001b[0m\u001b[0;34m)\u001b[0m\u001b[0;34m]\u001b[0m\u001b[0;34m)\u001b[0m\u001b[0;34m\u001b[0m\u001b[0;34m\u001b[0m\u001b[0m\n\u001b[0;32m----> 2\u001b[0;31m \u001b[0mprint\u001b[0m\u001b[0;34m(\u001b[0m\u001b[0;34mf'det : {np.linalg.det(mat)}'\u001b[0m\u001b[0;34m)\u001b[0m\u001b[0;34m\u001b[0m\u001b[0;34m\u001b[0m\u001b[0m\n\u001b[0m\u001b[1;32m      3\u001b[0m \u001b[0mprint\u001b[0m\u001b[0;34m(\u001b[0m\u001b[0;34mf'inv : {np.linalg.inv(mat)}'\u001b[0m\u001b[0;34m)\u001b[0m\u001b[0;34m\u001b[0m\u001b[0;34m\u001b[0m\u001b[0m\n",
            "\u001b[0;32m/usr/local/lib/python3.10/dist-packages/numpy/linalg/linalg.py\u001b[0m in \u001b[0;36mdet\u001b[0;34m(a)\u001b[0m\n\u001b[1;32m   2175\u001b[0m     \u001b[0ma\u001b[0m \u001b[0;34m=\u001b[0m \u001b[0masarray\u001b[0m\u001b[0;34m(\u001b[0m\u001b[0ma\u001b[0m\u001b[0;34m)\u001b[0m\u001b[0;34m\u001b[0m\u001b[0;34m\u001b[0m\u001b[0m\n\u001b[1;32m   2176\u001b[0m     \u001b[0m_assert_stacked_2d\u001b[0m\u001b[0;34m(\u001b[0m\u001b[0ma\u001b[0m\u001b[0;34m)\u001b[0m\u001b[0;34m\u001b[0m\u001b[0;34m\u001b[0m\u001b[0m\n\u001b[0;32m-> 2177\u001b[0;31m     \u001b[0m_assert_stacked_square\u001b[0m\u001b[0;34m(\u001b[0m\u001b[0ma\u001b[0m\u001b[0;34m)\u001b[0m\u001b[0;34m\u001b[0m\u001b[0;34m\u001b[0m\u001b[0m\n\u001b[0m\u001b[1;32m   2178\u001b[0m     \u001b[0mt\u001b[0m\u001b[0;34m,\u001b[0m \u001b[0mresult_t\u001b[0m \u001b[0;34m=\u001b[0m \u001b[0m_commonType\u001b[0m\u001b[0;34m(\u001b[0m\u001b[0ma\u001b[0m\u001b[0;34m)\u001b[0m\u001b[0;34m\u001b[0m\u001b[0;34m\u001b[0m\u001b[0m\n\u001b[1;32m   2179\u001b[0m     \u001b[0msignature\u001b[0m \u001b[0;34m=\u001b[0m \u001b[0;34m'D->D'\u001b[0m \u001b[0;32mif\u001b[0m \u001b[0misComplexType\u001b[0m\u001b[0;34m(\u001b[0m\u001b[0mt\u001b[0m\u001b[0;34m)\u001b[0m \u001b[0;32melse\u001b[0m \u001b[0;34m'd->d'\u001b[0m\u001b[0;34m\u001b[0m\u001b[0;34m\u001b[0m\u001b[0m\n",
            "\u001b[0;32m/usr/local/lib/python3.10/dist-packages/numpy/linalg/linalg.py\u001b[0m in \u001b[0;36m_assert_stacked_square\u001b[0;34m(*arrays)\u001b[0m\n\u001b[1;32m    211\u001b[0m         \u001b[0mm\u001b[0m\u001b[0;34m,\u001b[0m \u001b[0mn\u001b[0m \u001b[0;34m=\u001b[0m \u001b[0ma\u001b[0m\u001b[0;34m.\u001b[0m\u001b[0mshape\u001b[0m\u001b[0;34m[\u001b[0m\u001b[0;34m-\u001b[0m\u001b[0;36m2\u001b[0m\u001b[0;34m:\u001b[0m\u001b[0;34m]\u001b[0m\u001b[0;34m\u001b[0m\u001b[0;34m\u001b[0m\u001b[0m\n\u001b[1;32m    212\u001b[0m         \u001b[0;32mif\u001b[0m \u001b[0mm\u001b[0m \u001b[0;34m!=\u001b[0m \u001b[0mn\u001b[0m\u001b[0;34m:\u001b[0m\u001b[0;34m\u001b[0m\u001b[0;34m\u001b[0m\u001b[0m\n\u001b[0;32m--> 213\u001b[0;31m             \u001b[0;32mraise\u001b[0m \u001b[0mLinAlgError\u001b[0m\u001b[0;34m(\u001b[0m\u001b[0;34m'Last 2 dimensions of the array must be square'\u001b[0m\u001b[0;34m)\u001b[0m\u001b[0;34m\u001b[0m\u001b[0;34m\u001b[0m\u001b[0m\n\u001b[0m\u001b[1;32m    214\u001b[0m \u001b[0;34m\u001b[0m\u001b[0m\n\u001b[1;32m    215\u001b[0m \u001b[0;32mdef\u001b[0m \u001b[0m_assert_finite\u001b[0m\u001b[0;34m(\u001b[0m\u001b[0;34m*\u001b[0m\u001b[0marrays\u001b[0m\u001b[0;34m)\u001b[0m\u001b[0;34m:\u001b[0m\u001b[0;34m\u001b[0m\u001b[0;34m\u001b[0m\u001b[0m\n",
            "\u001b[0;31mLinAlgError\u001b[0m: Last 2 dimensions of the array must be square"
          ]
        }
      ]
    },
    {
      "cell_type": "markdown",
      "id": "9f94aebb",
      "metadata": {
        "id": "9f94aebb"
      },
      "source": [
        "# Homework 1\n",
        "![image-5.png](attachment:image-5.png)"
      ]
    },
    {
      "cell_type": "code",
      "execution_count": 68,
      "id": "661c550f",
      "metadata": {
        "colab": {
          "base_uri": "https://localhost:8080/"
        },
        "id": "661c550f",
        "outputId": "2f199635-ccf2-4b28-e35d-13b94af374ef"
      },
      "outputs": [
        {
          "output_type": "stream",
          "name": "stdout",
          "text": [
            "Matrix([[1, 0, 2, 0], [0, 1, 4/5, 0], [0, 0, 0, 1]])\n",
            "(0, 1, 3)\n",
            "linear combination\n"
          ]
        }
      ],
      "source": [
        "mat=sp.Matrix([[1,0,2,-5],[-2,5,0,11],[2,5,8,8]])\n",
        "rref,pivot=mat.rref()\n",
        "print(rref)\n",
        "print(pivot)\n",
        "print(\"linear combination\")"
      ]
    },
    {
      "cell_type": "code",
      "source": [
        "mat=sp.Matrix([[1,0,1,2],[1,2,2,1],[0,1,2,1]])\n",
        "rref,pivot=mat.rref()\n",
        "print(rref)\n",
        "print(pivot)\n",
        "print(\"linear combination\")"
      ],
      "metadata": {
        "colab": {
          "base_uri": "https://localhost:8080/"
        },
        "id": "QRFsa4UYu7Rn",
        "outputId": "7d5c65ea-3324-4208-987a-7cb6a6921c1c"
      },
      "id": "QRFsa4UYu7Rn",
      "execution_count": 69,
      "outputs": [
        {
          "output_type": "stream",
          "name": "stdout",
          "text": [
            "Matrix([[1, 0, 0, 1], [0, 1, 0, -1], [0, 0, 1, 1]])\n",
            "(0, 1, 2)\n",
            "linear combination\n"
          ]
        }
      ]
    },
    {
      "cell_type": "code",
      "source": [
        "mat=sp.Matrix([[1,1,0],[0,2,1],[1,2,2],[2,1,1]])\n",
        "rref,pivot=mat.rref()\n",
        "print(rref)\n",
        "print(pivot)\n",
        "print(\"dependent\")"
      ],
      "metadata": {
        "colab": {
          "base_uri": "https://localhost:8080/"
        },
        "id": "k8ZflR5DvCFt",
        "outputId": "536098d8-124d-44fd-8825-89a6af97bf2c"
      },
      "id": "k8ZflR5DvCFt",
      "execution_count": 70,
      "outputs": [
        {
          "output_type": "stream",
          "name": "stdout",
          "text": [
            "Matrix([[1, 0, 0], [0, 1, 0], [0, 0, 1], [0, 0, 0]])\n",
            "(0, 1, 2)\n",
            "dependent\n"
          ]
        }
      ]
    },
    {
      "cell_type": "markdown",
      "id": "f125e0b2",
      "metadata": {
        "id": "f125e0b2"
      },
      "source": [
        "# Homework 2\n",
        "![image-6.png](attachment:image-6.png)"
      ]
    },
    {
      "cell_type": "code",
      "execution_count": 74,
      "id": "0e71feda",
      "metadata": {
        "colab": {
          "base_uri": "https://localhost:8080/"
        },
        "id": "0e71feda",
        "outputId": "0189f018-0cae-4640-afe4-db908a6d54e0"
      },
      "outputs": [
        {
          "output_type": "execute_result",
          "data": {
            "text/plain": [
              "array([[ 1,  0,  0],\n",
              "       [-1,  1,  0],\n",
              "       [ 1,  2, -1]])"
            ]
          },
          "metadata": {},
          "execution_count": 74
        }
      ],
      "source": [
        "mat1=np.array([[0,2,-1],[3,1,1],[0,-1,-2]])\n",
        "mat"
      ]
    },
    {
      "cell_type": "code",
      "source": [
        "mat2=np.array([[1,0,0],[-1,1,0],[1,2,-1]])\n",
        "mat"
      ],
      "metadata": {
        "colab": {
          "base_uri": "https://localhost:8080/"
        },
        "id": "m8t95FcwvVFd",
        "outputId": "b606368b-961a-491c-fd06-3d44441e8fbb"
      },
      "id": "m8t95FcwvVFd",
      "execution_count": 75,
      "outputs": [
        {
          "output_type": "execute_result",
          "data": {
            "text/plain": [
              "array([[ 1,  0,  0],\n",
              "       [-1,  1,  0],\n",
              "       [ 1,  2, -1]])"
            ]
          },
          "metadata": {},
          "execution_count": 75
        }
      ]
    },
    {
      "cell_type": "code",
      "source": [
        "mat1@mat2"
      ],
      "metadata": {
        "colab": {
          "base_uri": "https://localhost:8080/"
        },
        "id": "eeCPA3BlvV19",
        "outputId": "1c03b3ca-a7e9-4850-e177-d26978db4316"
      },
      "id": "eeCPA3BlvV19",
      "execution_count": 76,
      "outputs": [
        {
          "output_type": "execute_result",
          "data": {
            "text/plain": [
              "array([[-3,  0,  1],\n",
              "       [ 3,  3, -1],\n",
              "       [-1, -5,  2]])"
            ]
          },
          "metadata": {},
          "execution_count": 76
        }
      ]
    },
    {
      "cell_type": "code",
      "source": [
        "mat=np.array([[1,1],[1,-1]])\n",
        "np.linalg.inv(mat)"
      ],
      "metadata": {
        "colab": {
          "base_uri": "https://localhost:8080/"
        },
        "id": "QXiHK7SGvrFp",
        "outputId": "b9c176fc-8893-478b-a9d3-8ebb7335ae8a"
      },
      "id": "QXiHK7SGvrFp",
      "execution_count": 77,
      "outputs": [
        {
          "output_type": "execute_result",
          "data": {
            "text/plain": [
              "array([[ 0.5,  0.5],\n",
              "       [ 0.5, -0.5]])"
            ]
          },
          "metadata": {},
          "execution_count": 77
        }
      ]
    },
    {
      "cell_type": "code",
      "source": [
        "mat=np.array([[1,2],[3,5]])\n",
        "np.linalg.inv(mat)"
      ],
      "metadata": {
        "colab": {
          "base_uri": "https://localhost:8080/"
        },
        "id": "uKJmOFxCvsB1",
        "outputId": "282526cd-4b55-4d9c-df63-a6c54f9fa5b9"
      },
      "id": "uKJmOFxCvsB1",
      "execution_count": 78,
      "outputs": [
        {
          "output_type": "execute_result",
          "data": {
            "text/plain": [
              "array([[-5.,  2.],\n",
              "       [ 3., -1.]])"
            ]
          },
          "metadata": {},
          "execution_count": 78
        }
      ]
    },
    {
      "cell_type": "code",
      "source": [
        "mat=np.array([[1,0,1],[0,1,1],[1,1,1]])\n",
        "np.linalg.inv(mat)"
      ],
      "metadata": {
        "colab": {
          "base_uri": "https://localhost:8080/"
        },
        "id": "TbMKIGTUv5Jt",
        "outputId": "a83a72b1-0271-4917-dcc7-7fda35195b1f"
      },
      "id": "TbMKIGTUv5Jt",
      "execution_count": 79,
      "outputs": [
        {
          "output_type": "execute_result",
          "data": {
            "text/plain": [
              "array([[ 0., -1.,  1.],\n",
              "       [-1.,  0.,  1.],\n",
              "       [ 1.,  1., -1.]])"
            ]
          },
          "metadata": {},
          "execution_count": 79
        }
      ]
    },
    {
      "cell_type": "markdown",
      "id": "b5e115cb",
      "metadata": {
        "id": "b5e115cb"
      },
      "source": [
        "# Homework 3\n",
        "![image-7.png](attachment:image-7.png)"
      ]
    },
    {
      "cell_type": "code",
      "execution_count": 80,
      "id": "9660d7d8",
      "metadata": {
        "colab": {
          "base_uri": "https://localhost:8080/"
        },
        "id": "9660d7d8",
        "outputId": "c5210c62-7ea2-4819-a742-dadb42463e90"
      },
      "outputs": [
        {
          "output_type": "stream",
          "name": "stdout",
          "text": [
            "Matrix([[1, 0, 0, 0], [0, 1, 0, 0], [0, 0, 1, 0], [0, 0, 0, 1]])\n",
            "(0, 1, 2, 3)\n"
          ]
        }
      ],
      "source": [
        "mat=sp.Matrix([[0,1,1,1],[2,-1,2,0],[1,0,0,0],[0,0,-1,1]])\n",
        "rref,pivot=mat.rref()\n",
        "print(rref)\n",
        "print(pivot)"
      ]
    },
    {
      "cell_type": "code",
      "execution_count": 84,
      "id": "606daff8",
      "metadata": {
        "colab": {
          "base_uri": "https://localhost:8080/"
        },
        "id": "606daff8",
        "outputId": "37a1aa0a-0a83-4467-d57f-be47d8779517"
      },
      "outputs": [
        {
          "output_type": "execute_result",
          "data": {
            "text/plain": [
              "array([0.        , 0.89442719, 0.4472136 , 0.        ])"
            ]
          },
          "metadata": {},
          "execution_count": 84
        }
      ],
      "source": [
        "v1=np.array([0,2,1,0])\n",
        "v2=np.array([1,-1,0,0])\n",
        "v3=np.array([1,2,0,-1])\n",
        "v4=np.array([1,0,0,1])\n",
        "u1=v1\n",
        "u1=u1/np.linalg.norm(u1)\n",
        "u1"
      ]
    },
    {
      "cell_type": "code",
      "source": [
        "u2=(v2-(np.dot(u1,v2))/(np.linalg.norm(u1)**2)*u1)\n",
        "u2/=np.linalg.norm(u2)\n",
        "u2"
      ],
      "metadata": {
        "colab": {
          "base_uri": "https://localhost:8080/"
        },
        "id": "Hz3Vai9CwaW1",
        "outputId": "d979146b-654c-4d6f-ec5b-c9ae2caab52c"
      },
      "id": "Hz3Vai9CwaW1",
      "execution_count": 86,
      "outputs": [
        {
          "output_type": "execute_result",
          "data": {
            "text/plain": [
              "array([ 0.91287093, -0.18257419,  0.36514837,  0.        ])"
            ]
          },
          "metadata": {},
          "execution_count": 86
        }
      ]
    },
    {
      "cell_type": "code",
      "source": [
        "u3=v3-(np.dot(u1,v3))/(np.linalg.norm(u1)**2)*u1-(np.dot(u2,v3))/(np.linalg.norm(u2)**2)*u2\n",
        "u3/=np.linalg.norm(u3)\n",
        "u3"
      ],
      "metadata": {
        "colab": {
          "base_uri": "https://localhost:8080/"
        },
        "id": "J1Ik0SdZwg5l",
        "outputId": "d7f26447-a522-4f4c-9cc3-d8451e4aa1ef"
      },
      "id": "J1Ik0SdZwg5l",
      "execution_count": 87,
      "outputs": [
        {
          "output_type": "execute_result",
          "data": {
            "text/plain": [
              "array([ 0.31622777,  0.31622777, -0.63245553, -0.63245553])"
            ]
          },
          "metadata": {},
          "execution_count": 87
        }
      ]
    },
    {
      "cell_type": "code",
      "source": [
        "u4=v4-(np.dot(u1,v4))/(np.linalg.norm(u1)**2)*u1-(np.dot(u2,v4))/(np.linalg.norm(u2)**2)*u2-(np.dot(u3,v4))/(np.linalg.norm(u3)**2)*u3\n",
        "u4/=np.linalg.norm(u4)\n",
        "u4"
      ],
      "metadata": {
        "colab": {
          "base_uri": "https://localhost:8080/"
        },
        "id": "szjkGBcawoc-",
        "outputId": "aed16ecf-dee5-41d1-f765-fe963a0ebdbe"
      },
      "id": "szjkGBcawoc-",
      "execution_count": 88,
      "outputs": [
        {
          "output_type": "execute_result",
          "data": {
            "text/plain": [
              "array([ 0.25819889,  0.25819889, -0.51639778,  0.77459667])"
            ]
          },
          "metadata": {},
          "execution_count": 88
        }
      ]
    }
  ],
  "metadata": {
    "kernelspec": {
      "display_name": "Python 3 (ipykernel)",
      "language": "python",
      "name": "python3"
    },
    "language_info": {
      "codemirror_mode": {
        "name": "ipython",
        "version": 3
      },
      "file_extension": ".py",
      "mimetype": "text/x-python",
      "name": "python",
      "nbconvert_exporter": "python",
      "pygments_lexer": "ipython3",
      "version": "3.9.12"
    },
    "colab": {
      "provenance": []
    }
  },
  "nbformat": 4,
  "nbformat_minor": 5
}